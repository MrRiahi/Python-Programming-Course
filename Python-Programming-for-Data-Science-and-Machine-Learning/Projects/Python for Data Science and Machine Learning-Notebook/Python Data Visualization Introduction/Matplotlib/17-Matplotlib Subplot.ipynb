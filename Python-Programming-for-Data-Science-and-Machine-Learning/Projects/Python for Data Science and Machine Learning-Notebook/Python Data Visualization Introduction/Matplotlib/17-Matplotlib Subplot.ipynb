{
 "cells": [
  {
   "cell_type": "code",
   "execution_count": null,
   "metadata": {},
   "outputs": [],
   "source": [
    "import matplotlib.pyplot as plt\n",
    "import numpy as np"
   ]
  },
  {
   "cell_type": "code",
   "execution_count": null,
   "metadata": {},
   "outputs": [],
   "source": [
    "## Define variable\n",
    "x = np.linspace(-5, 5, 200)\n",
    "y1 = x**2\n",
    "y2 = x**3"
   ]
  },
  {
   "cell_type": "code",
   "execution_count": null,
   "metadata": {},
   "outputs": [],
   "source": [
    "### Subplot\n",
    "xlabels = ('x numbers')\n",
    "ylabels = {'y1' : 'Squared', 'y2' : 'Cubed'}\n",
    "\n",
    "\n",
    "plt.subplot(1,2,1).plot(x, y1, label = 'Graph1', color = 'r')\n",
    "plt.xlabel(xlabels[0])\n",
    "plt.ylabel(ylabels['y1'])\n",
    "plt.title('Graph1')\n",
    "plt.legend()\n",
    "\n",
    "\n",
    "plt.subplot(1,2,2).plot(x, y2, label = 'Graph2', color = 'y')\n",
    "plt.xlabel(xlabels[0])\n",
    "ylabel = {'y2' : 'y2 number'}\n",
    "plt.ylabel(ylabels['y2'])\n",
    "plt.title('Graph2')\n",
    "plt.legend()"
   ]
  },
  {
   "cell_type": "code",
   "execution_count": null,
   "metadata": {},
   "outputs": [],
   "source": [
    "plt.show()"
   ]
  }
 ],
 "metadata": {
  "kernelspec": {
   "display_name": "Python 3",
   "language": "python",
   "name": "python3"
  },
  "language_info": {
   "codemirror_mode": {
    "name": "ipython",
    "version": 3
   },
   "file_extension": ".py",
   "mimetype": "text/x-python",
   "name": "python",
   "nbconvert_exporter": "python",
   "pygments_lexer": "ipython3",
   "version": "3.6.2"
  }
 },
 "nbformat": 4,
 "nbformat_minor": 2
}
