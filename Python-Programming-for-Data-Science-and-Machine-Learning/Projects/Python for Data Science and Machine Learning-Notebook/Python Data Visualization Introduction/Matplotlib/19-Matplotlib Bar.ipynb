{
 "cells": [
  {
   "cell_type": "code",
   "execution_count": null,
   "metadata": {},
   "outputs": [],
   "source": [
    "import matplotlib.pyplot as plt"
   ]
  },
  {
   "cell_type": "code",
   "execution_count": null,
   "metadata": {},
   "outputs": [],
   "source": [
    "## Define variable\n",
    "x1 = [2, 4, 6, 8, 10]\n",
    "y1 = [6, 7, 8, 2, 4]\n",
    "\n",
    "x2 = [1, 3, 5, 7, 9]\n",
    "y2 = [7, 8, 2, 4, 2]"
   ]
  },
  {
   "cell_type": "code",
   "execution_count": null,
   "metadata": {},
   "outputs": [],
   "source": [
    "## Bar Plot\n",
    "plt.bar(x1, y1, label = 'Bar1', color = 'r')\n",
    "plt.bar(x2, y2, label = 'Bar2', color = 'c')\n",
    "\n",
    "plt.xlabel('x number')\n",
    "plt.ylabel('y number')\n",
    "plt.title('Bar Graph')\n",
    "plt.legend()"
   ]
  },
  {
   "cell_type": "code",
   "execution_count": null,
   "metadata": {},
   "outputs": [],
   "source": [
    "plt.show()"
   ]
  },
  {
   "cell_type": "code",
   "execution_count": null,
   "metadata": {},
   "outputs": [],
   "source": []
  }
 ],
 "metadata": {
  "kernelspec": {
   "display_name": "Python 3",
   "language": "python",
   "name": "python3"
  },
  "language_info": {
   "codemirror_mode": {
    "name": "ipython",
    "version": 3
   },
   "file_extension": ".py",
   "mimetype": "text/x-python",
   "name": "python",
   "nbconvert_exporter": "python",
   "pygments_lexer": "ipython3",
   "version": "3.5.2"
  }
 },
 "nbformat": 4,
 "nbformat_minor": 2
}
