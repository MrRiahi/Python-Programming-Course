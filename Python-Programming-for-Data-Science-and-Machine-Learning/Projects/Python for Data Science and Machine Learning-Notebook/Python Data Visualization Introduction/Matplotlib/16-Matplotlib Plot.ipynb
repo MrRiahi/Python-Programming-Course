{
 "cells": [
  {
   "cell_type": "code",
   "execution_count": null,
   "metadata": {},
   "outputs": [],
   "source": [
    "import matplotlib.pyplot as plt\n",
    "import numpy as np"
   ]
  },
  {
   "cell_type": "code",
   "execution_count": null,
   "metadata": {},
   "outputs": [],
   "source": [
    "## Define variable\n",
    "x = np.linspace(0, 5, 100)\n",
    "y1 = x**2\n",
    "y2 = x**3"
   ]
  },
  {
   "cell_type": "code",
   "execution_count": null,
   "metadata": {},
   "outputs": [],
   "source": [
    "### Plot\n",
    "plt.plot(x, y1)\n",
    "plt.plot(x, y2)\n",
    "\n",
    "##plt.subplot(1,2,1).plot(x1, y1, label = 'First graph')\n",
    "##plt.subplot(1,2,2).plot(x2, y2, label = 'Second graph')\n",
    "\n",
    "xlabel = ('x number')\n",
    "plt.xlabel(xlabel)\n",
    "\n",
    "ylabel = {'y' : 'y number'}\n",
    "plt.ylabel(ylabel['y'])\n",
    "\n",
    "plt.title('My\\n Graph')\n",
    "\n",
    "##plt.xlim([-2, 6])\n",
    "##plt.ylim([-10, 130])\n",
    "\n",
    "labels = ('Squared', 'Cubed')\n",
    "plt.legend(labels)\n",
    "##plt.legend()"
   ]
  },
  {
   "cell_type": "code",
   "execution_count": null,
   "metadata": {},
   "outputs": [],
   "source": [
    "plt.show()"
   ]
  },
  {
   "cell_type": "code",
   "execution_count": null,
   "metadata": {},
   "outputs": [],
   "source": [
    "##plt.savefig('MyFig.png', dpi=100)"
   ]
  }
 ],
 "metadata": {
  "kernelspec": {
   "display_name": "Python 3",
   "language": "python",
   "name": "python3"
  },
  "language_info": {
   "codemirror_mode": {
    "name": "ipython",
    "version": 3
   },
   "file_extension": ".py",
   "mimetype": "text/x-python",
   "name": "python",
   "nbconvert_exporter": "python",
   "pygments_lexer": "ipython3",
   "version": "3.6.2"
  }
 },
 "nbformat": 4,
 "nbformat_minor": 2
}
