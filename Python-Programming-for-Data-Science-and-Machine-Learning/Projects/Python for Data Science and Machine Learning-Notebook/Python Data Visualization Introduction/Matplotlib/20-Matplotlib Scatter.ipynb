{
 "cells": [
  {
   "cell_type": "code",
   "execution_count": null,
   "metadata": {},
   "outputs": [],
   "source": [
    "import matplotlib.pyplot as plt"
   ]
  },
  {
   "cell_type": "code",
   "execution_count": null,
   "metadata": {},
   "outputs": [],
   "source": [
    "## Define variable\n",
    "x = [1, 2, 3, 4, 5, 6, 7, 8]\n",
    "y = [5, 2, 4, 2, 1, 4, 5, 2]"
   ]
  },
  {
   "cell_type": "code",
   "execution_count": null,
   "metadata": {},
   "outputs": [],
   "source": [
    "## Scatter Plot\n",
    "plt.figure()\n",
    "plt.scatter(x, y, color = 'k', linewidths = 5, marker = 'o')\n",
    "\n",
    "\n",
    "plt.xlabel('x number')\n",
    "plt.ylabel('y number')\n",
    "plt.title('Scatter Graph')"
   ]
  },
  {
   "cell_type": "code",
   "execution_count": null,
   "metadata": {},
   "outputs": [],
   "source": [
    "plt.show()"
   ]
  }
 ],
 "metadata": {
  "kernelspec": {
   "display_name": "Python 3",
   "language": "python",
   "name": "python3"
  },
  "language_info": {
   "codemirror_mode": {
    "name": "ipython",
    "version": 3
   },
   "file_extension": ".py",
   "mimetype": "text/x-python",
   "name": "python",
   "nbconvert_exporter": "python",
   "pygments_lexer": "ipython3",
   "version": "3.6.2"
  }
 },
 "nbformat": 4,
 "nbformat_minor": 2
}
