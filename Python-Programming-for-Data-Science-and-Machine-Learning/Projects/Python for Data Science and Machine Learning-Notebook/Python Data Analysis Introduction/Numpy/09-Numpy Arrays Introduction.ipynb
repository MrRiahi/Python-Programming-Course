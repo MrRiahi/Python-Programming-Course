{
 "cells": [
  {
   "cell_type": "code",
   "execution_count": null,
   "metadata": {},
   "outputs": [],
   "source": [
    "import numpy as np"
   ]
  },
  {
   "cell_type": "code",
   "execution_count": null,
   "metadata": {},
   "outputs": [],
   "source": [
    "array = np.arange(start = 0, stop = 25, step = 1, dtype = 'complex')\n",
    "print('Arange array is:\\n', array, '\\n')"
   ]
  },
  {
   "cell_type": "code",
   "execution_count": null,
   "metadata": {},
   "outputs": [],
   "source": [
    "print('Reshape array is:\\n', array.reshape(5, 5))"
   ]
  },
  {
   "cell_type": "code",
   "execution_count": null,
   "metadata": {},
   "outputs": [],
   "source": [
    "zeros = np.zeros((2, 3), dtype='int')\n",
    "print('Zeros matrix is:\\n', zeros)"
   ]
  },
  {
   "cell_type": "code",
   "execution_count": null,
   "metadata": {},
   "outputs": [],
   "source": [
    "linspace = np.linspace(start = 0, stop = 5, num=11, endpoint=True, dtype = 'float')\n",
    "print('Linspace array is:\\n', linspace)"
   ]
  },
  {
   "cell_type": "code",
   "execution_count": null,
   "metadata": {},
   "outputs": [],
   "source": [
    "eye = np.eye(5)\n",
    "print('Eye matrix is:\\n', eye)"
   ]
  },
  {
   "cell_type": "code",
   "execution_count": null,
   "metadata": {},
   "outputs": [],
   "source": [
    "UniformRand = np.random.rand(5, 2)\n",
    "print('Uniform random is:\\n', UniformRand)"
   ]
  },
  {
   "cell_type": "code",
   "execution_count": null,
   "metadata": {},
   "outputs": [],
   "source": [
    "NormalRand = np.random.randn(5)\n",
    "print('Normal random is:\\n', NormalRand)"
   ]
  },
  {
   "cell_type": "code",
   "execution_count": null,
   "metadata": {},
   "outputs": [],
   "source": [
    "IntRand = np.random.randint(low = 1, high = 10, size = 7)\n",
    "print('Integer random is:\\n', IntRand)\n",
    "\n",
    "print('maximum of IntRand is:', IntRand.max())\n",
    "print('Argoman maximum of   IntRand is:', IntRand.argmax())\n",
    "print('minimum of IntRand is:', IntRand.min())\n",
    "print('Argoman mainimum of   IntRand is:',IntRand.argmin())"
   ]
  }
 ],
 "metadata": {
  "kernelspec": {
   "display_name": "Python 3",
   "language": "python",
   "name": "python3"
  },
  "language_info": {
   "codemirror_mode": {
    "name": "ipython",
    "version": 3
   },
   "file_extension": ".py",
   "mimetype": "text/x-python",
   "name": "python",
   "nbconvert_exporter": "python",
   "pygments_lexer": "ipython3",
   "version": "3.5.2"
  }
 },
 "nbformat": 4,
 "nbformat_minor": 2
}
