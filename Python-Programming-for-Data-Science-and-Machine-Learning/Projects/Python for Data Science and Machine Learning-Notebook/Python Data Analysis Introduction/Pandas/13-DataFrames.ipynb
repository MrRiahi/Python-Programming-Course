{
 "cells": [
  {
   "cell_type": "code",
   "execution_count": null,
   "metadata": {},
   "outputs": [],
   "source": [
    "import pandas as pd\n",
    "from numpy.random import randn"
   ]
  },
  {
   "cell_type": "code",
   "execution_count": null,
   "metadata": {},
   "outputs": [],
   "source": [
    "np.random.seed(101)\n",
    "df = pd.DataFrame(data=randn(5, 4), index=['A', 'B', 'C', 'D', 'E'],\n",
    "                  columns=['W', 'X', 'Y', 'Z'])"
   ]
  },
  {
   "cell_type": "code",
   "execution_count": null,
   "metadata": {},
   "outputs": [],
   "source": [
    "print('Head of df is:\\n', df.head(n=1))"
   ]
  },
  {
   "cell_type": "code",
   "execution_count": null,
   "metadata": {},
   "outputs": [],
   "source": [
    "Booleandf = df > 0\n",
    "print('Elements of df that is greater than 0 is:\\n', Booleandf)\n",
    "\n",
    "print('')\n",
    "\n",
    "print(df[Booleandf])\n",
    "\n",
    "print('')\n",
    "\n",
    "print(df[df > 0])"
   ]
  },
  {
   "cell_type": "code",
   "execution_count": null,
   "metadata": {},
   "outputs": [],
   "source": [
    "print('Elements of column W that is greater than 0 is:\\n', df['W'] > 0)\n",
    "\n",
    "print('')\n",
    "\n",
    "print(df[df['W'] > 0])\n",
    "##print(df[df['Z'] < 0])"
   ]
  },
  {
   "cell_type": "code",
   "execution_count": null,
   "metadata": {},
   "outputs": [],
   "source": [
    "print('Elements of in X and Y  that are thier corresponding indices in W are greater than 0 is:\\n '\n",
    "      , df[df['W'] > 0][['X', 'Y']])\n",
    "\n",
    "''' Another way for above code is\n",
    "   boolser = df['W'] > 0\n",
    "   result = df[boolser]\n",
    "   MyCols = ['X', 'Y']\n",
    "   result[MyCols]\n",
    "'''"
   ]
  },
  {
   "cell_type": "code",
   "execution_count": null,
   "metadata": {},
   "outputs": [],
   "source": [
    "print('Elements of indices that are greater than 0 in W and greater then 1 in Y is:\\n'\n",
    "      , df[(df['W'] > 0) & (df['Y'] > 1)])"
   ]
  },
  {
   "cell_type": "code",
   "execution_count": null,
   "metadata": {},
   "outputs": [],
   "source": [
    "print('Count of the elements of in X is:\\n', df['X'].value_counts())\n",
    "\n",
    "print('')\n",
    "\n",
    "print('Sum of the elements of in Y is:\\n', df['Y'].sum())"
   ]
  }
 ],
 "metadata": {
  "kernelspec": {
   "display_name": "Python 3",
   "language": "python",
   "name": "python3"
  },
  "language_info": {
   "codemirror_mode": {
    "name": "ipython",
    "version": 3
   },
   "file_extension": ".py",
   "mimetype": "text/x-python",
   "name": "python",
   "nbconvert_exporter": "python",
   "pygments_lexer": "ipython3",
   "version": "3.6.2"
  }
 },
 "nbformat": 4,
 "nbformat_minor": 2
}
