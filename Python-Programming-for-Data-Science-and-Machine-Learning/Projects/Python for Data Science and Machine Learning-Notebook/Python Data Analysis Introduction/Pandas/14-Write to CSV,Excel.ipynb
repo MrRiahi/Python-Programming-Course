{
 "cells": [
  {
   "cell_type": "code",
   "execution_count": null,
   "metadata": {},
   "outputs": [],
   "source": [
    "import pandas as pd"
   ]
  },
  {
   "cell_type": "code",
   "execution_count": null,
   "metadata": {},
   "outputs": [],
   "source": [
    "dic = {'A' : ['foo', 'foo', 'foo', 'bar', 'bar', 'bar'],\n",
    "         'B' : ['one', 'one', 'two', 'two', 'one', 'one'],\n",
    "         'C' : ['x', 'y', 'x', 'y', 'x', 'y'],\n",
    "         'D' : [1, 3, 2, 5, 4, 1]}\n",
    "\n",
    "df = pd.DataFrame(dic)\n",
    "\n",
    "print('df of dic is:\\n', df)"
   ]
  },
  {
   "cell_type": "code",
   "execution_count": null,
   "metadata": {},
   "outputs": [],
   "source": [
    "df.to_csv('test1.csv', index=False)"
   ]
  },
  {
   "cell_type": "code",
   "execution_count": null,
   "metadata": {},
   "outputs": [],
   "source": [
    "df.to_csv('test2.csv', index=True)"
   ]
  },
  {
   "cell_type": "code",
   "execution_count": null,
   "metadata": {},
   "outputs": [],
   "source": [
    "df.to_excel('test3.xlsx', sheet_name='Sheet2')"
   ]
  }
 ],
 "metadata": {
  "kernelspec": {
   "display_name": "Python 3",
   "language": "python",
   "name": "python3"
  },
  "language_info": {
   "codemirror_mode": {
    "name": "ipython",
    "version": 3
   },
   "file_extension": ".py",
   "mimetype": "text/x-python",
   "name": "python",
   "nbconvert_exporter": "python",
   "pygments_lexer": "ipython3",
   "version": "3.6.2"
  }
 },
 "nbformat": 4,
 "nbformat_minor": 2
}
