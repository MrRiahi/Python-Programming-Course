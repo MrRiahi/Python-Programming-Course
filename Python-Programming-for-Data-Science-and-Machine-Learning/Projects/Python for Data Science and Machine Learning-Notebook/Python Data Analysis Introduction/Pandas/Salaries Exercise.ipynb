{
 "cells": [
  {
   "cell_type": "code",
   "execution_count": null,
   "metadata": {},
   "outputs": [],
   "source": [
    "import pandas as pd\n",
    "import numpy as np"
   ]
  },
  {
   "cell_type": "code",
   "execution_count": null,
   "metadata": {},
   "outputs": [],
   "source": [
    "# Read Salaries dataset\n",
    "SalaryDF = pd.read_csv('Salaries.csv', low_memory=False)"
   ]
  },
  {
   "cell_type": "code",
   "execution_count": null,
   "metadata": {},
   "outputs": [],
   "source": [
    "# Get Indices of Salaries dataset\n",
    "Indices = SalaryDF.columns\n",
    "print(Indices)"
   ]
  },
  {
   "cell_type": "code",
   "execution_count": null,
   "metadata": {},
   "outputs": [],
   "source": [
    "# Get head of Salaries dataset with n=1\n",
    "head = SalaryDF.head(n=1)\n",
    "print(head)"
   ]
  },
  {
   "cell_type": "code",
   "execution_count": null,
   "metadata": {},
   "outputs": [],
   "source": [
    "# Get Salaries dataset informations\n",
    "info = SalaryDF.info()\n",
    "print(info)"
   ]
  },
  {
   "cell_type": "code",
   "execution_count": null,
   "metadata": {},
   "outputs": [],
   "source": [
    "# Compute the average of  BasePay\n",
    "mean = SalaryDF['BasePay'].mean()\n",
    "print(mean)"
   ]
  },
  {
   "cell_type": "code",
   "execution_count": null,
   "metadata": {},
   "outputs": [],
   "source": [
    "# Find the job of JOSEPH DRISCOLL\n",
    "job = SalaryDF[SalaryDF['EmployeeName'] == 'JOSEPH DRISCOLL']['JobTitle']\n",
    "print(job)\n",
    "\n",
    "''' Question: what is TotalPayBenefits of OSEPH DRISCOLL?'''"
   ]
  },
  {
   "cell_type": "code",
   "execution_count": null,
   "metadata": {},
   "outputs": [],
   "source": [
    "# Who got the most TotalPayBenefits?\n",
    "NameofMaxBenefit = SalaryDF[SalaryDF['TotalPayBenefits'] ==\n",
    "                            SalaryDF['TotalPayBenefits'].max()]['EmployeeName']\n",
    "print(NameofMaxBenefit)"
   ]
  }
 ],
 "metadata": {
  "kernelspec": {
   "display_name": "Python 3",
   "language": "python",
   "name": "python3"
  },
  "language_info": {
   "codemirror_mode": {
    "name": "ipython",
    "version": 3
   },
   "file_extension": ".py",
   "mimetype": "text/x-python",
   "name": "python",
   "nbconvert_exporter": "python",
   "pygments_lexer": "ipython3",
   "version": "3.6.2"
  }
 },
 "nbformat": 4,
 "nbformat_minor": 2
}
