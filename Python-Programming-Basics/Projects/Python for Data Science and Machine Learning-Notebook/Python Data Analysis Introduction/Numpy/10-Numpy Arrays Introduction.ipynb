{
 "cells": [
  {
   "cell_type": "code",
   "execution_count": null,
   "metadata": {},
   "outputs": [],
   "source": [
    "import numpy as np"
   ]
  },
  {
   "cell_type": "code",
   "execution_count": null,
   "metadata": {},
   "outputs": [],
   "source": [
    "array1 = np.array([1, 2, 3])\n",
    "\n",
    "print('Second elemnt of array1 is:', array1[1])"
   ]
  },
  {
   "cell_type": "code",
   "execution_count": null,
   "metadata": {},
   "outputs": [],
   "source": [
    "array2 = np.array([[6, 7, 8], \n",
    "                   [1, 2, 3],\n",
    "                   [9, 3, 2]])\n",
    "\n",
    "\n",
    "\n",
    "\n",
    "print('Rows of array2 is:')\n",
    "for row in array2:\n",
    "    print(row)\n",
    "\n",
    "print('')\n",
    "\n",
    "print('Columns of array2 is:')\n",
    "for col in array2.transpose():\n",
    "    print(col)"
   ]
  },
  {
   "cell_type": "code",
   "execution_count": null,
   "metadata": {},
   "outputs": [],
   "source": [
    "array3 = np.arange(30).reshape(2, 15)\n",
    "print('Array3 is:\\n', array3)\n",
    "\n",
    "print('')\n",
    "\n",
    "print('Number of rows and columns respectively is {} and {}'\n",
    "      .format(np.size(array3, axis = 0),np.size(array3, axis = 1)), '\\n')\n",
    "\n",
    "print('')\n",
    "\n",
    "print('Shape of array3 is:', array3.shape)"
   ]
  },
  {
   "cell_type": "code",
   "execution_count": null,
   "metadata": {},
   "outputs": [],
   "source": [
    "array5 = np.array([[1, 2], [3, 4]])\n",
    "array6 = np.array([[5, 6], [7, 8]])\n",
    "print('Array5 is:\\n', array5)\n",
    "print('')\n",
    "print('Array6 is:\\n', array6)\n",
    "print('')\n",
    "\n",
    "array7 = array5.dot(array6)\n",
    "print('Matrix Product of array5 to array6 is:\\n', array7)"
   ]
  },
  {
   "cell_type": "code",
   "execution_count": null,
   "metadata": {},
   "outputs": [],
   "source": [
    "print('Multiply arguments element-wise of array5 and array6 is:\\n', np.multiply(array5, array6))"
   ]
  },
  {
   "cell_type": "code",
   "execution_count": null,
   "metadata": {},
   "outputs": [],
   "source": [
    "array8 = np.array([[1, 2], \n",
    "                   [3, 4],\n",
    "                   [5, 6]])\n",
    "\n",
    "print('Sum of each columns is:\\n', array8.sum(axis = 0))\n",
    "print('')\n",
    "print('Sum of each rows is:\\n',array8.sum(axis = 1))\n",
    "print('')\n",
    "print('Sum of each elements is:\\n', array8.sum())"
   ]
  }
 ],
 "metadata": {
  "kernelspec": {
   "display_name": "Python 3",
   "language": "python",
   "name": "python3"
  },
  "language_info": {
   "codemirror_mode": {
    "name": "ipython",
    "version": 3
   },
   "file_extension": ".py",
   "mimetype": "text/x-python",
   "name": "python",
   "nbconvert_exporter": "python",
   "pygments_lexer": "ipython3",
   "version": "3.6.2"
  }
 },
 "nbformat": 4,
 "nbformat_minor": 2
}
