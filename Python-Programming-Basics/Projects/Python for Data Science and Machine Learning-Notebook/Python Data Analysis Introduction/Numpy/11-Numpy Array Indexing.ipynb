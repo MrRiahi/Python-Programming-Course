{
 "cells": [
  {
   "cell_type": "code",
   "execution_count": null,
   "metadata": {},
   "outputs": [],
   "source": [
    "import numpy as np"
   ]
  },
  {
   "cell_type": "code",
   "execution_count": null,
   "metadata": {},
   "outputs": [],
   "source": [
    "array1 = np.arange(start = 0, stop = 30)\n",
    "print('First five element of array1 is:\\n', array1[:5])\n",
    "\n",
    "print('')\n",
    "\n",
    "SliceArr = array1[:6]\n",
    "print('SliceArr is:\\n', SliceArr)\n",
    "\n",
    "print('')\n",
    "\n",
    "SliceArr[:] = 99\n",
    "print('New SliceArr is:\\n', SliceArr)\n",
    "\n",
    "print('')\n",
    "\n",
    "print('Array1 is:\\n', array1)"
   ]
  },
  {
   "cell_type": "code",
   "execution_count": null,
   "metadata": {},
   "outputs": [],
   "source": [
    "array2 = np.array([[6, 7, 8], \n",
    "                   [1, 2, 3],\n",
    "                   [9, 3, 2]])\n",
    "\n",
    "# Question: Access to 9 in array2\n",
    "\n",
    "print('Third element in first columns is:', array2[2][0])\n",
    "\n",
    "print('')\n",
    "\n",
    "print(array2[:2, 1:])"
   ]
  },
  {
   "cell_type": "code",
   "execution_count": null,
   "metadata": {},
   "outputs": [],
   "source": [
    "array3 = np.arange(30).reshape(2, 15)\n",
    "temp = array3 > 19\n",
    "print('Element of greater than 4 in array5 is:\\n', array3[temp])\n",
    "\n",
    "print('')\n",
    "\n",
    "array4 = array3.copy()\n",
    "array4[temp] = -1\n",
    "print('Array4 is:\\n', array4)"
   ]
  }
 ],
 "metadata": {
  "kernelspec": {
   "display_name": "Python 3",
   "language": "python",
   "name": "python3"
  },
  "language_info": {
   "codemirror_mode": {
    "name": "ipython",
    "version": 3
   },
   "file_extension": ".py",
   "mimetype": "text/x-python",
   "name": "python",
   "nbconvert_exporter": "python",
   "pygments_lexer": "ipython3",
   "version": "3.5.2"
  }
 },
 "nbformat": 4,
 "nbformat_minor": 2
}
