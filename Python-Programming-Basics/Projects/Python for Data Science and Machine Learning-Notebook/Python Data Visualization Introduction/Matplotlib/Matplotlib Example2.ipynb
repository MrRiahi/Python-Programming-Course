{
 "cells": [
  {
   "cell_type": "code",
   "execution_count": null,
   "metadata": {},
   "outputs": [],
   "source": [
    "### This is an example that taken from matplotlib site\n",
    "\n",
    "import numpy as np\n",
    "import matplotlib.pyplot as plt\n",
    "import matplotlib.collections as collections\n",
    "\n",
    "\n",
    "t = np.arange(0.0, 2, 0.01)\n",
    "s1 = np.sin(2*np.pi*t)\n",
    "s2 = 1.2*np.sin(4*np.pi*t)\n",
    "\n",
    "\n",
    "fig, ax = plt.subplots()\n",
    "ax.set_title('using span_where')\n",
    "ax.plot(t, s1, color='black')\n",
    "ax.axhline(0, color='black', lw=2)\n",
    "\n",
    "collection = collections.BrokenBarHCollection.span_where(\n",
    "    t, ymin=0, ymax=1, where=s1 > 0, facecolor='green', alpha=0.5)\n",
    "ax.add_collection(collection)\n",
    "\n",
    "collection = collections.BrokenBarHCollection.span_where(\n",
    "    t, ymin=-1, ymax=0, where=s1 < 0, facecolor='red', alpha=0.5)\n",
    "ax.add_collection(collection)\n",
    "\n",
    "\n",
    "plt.show()\n"
   ]
  }
 ],
 "metadata": {
  "kernelspec": {
   "display_name": "Python 3",
   "language": "python",
   "name": "python3"
  },
  "language_info": {
   "codemirror_mode": {
    "name": "ipython",
    "version": 3
   },
   "file_extension": ".py",
   "mimetype": "text/x-python",
   "name": "python",
   "nbconvert_exporter": "python",
   "pygments_lexer": "ipython3",
   "version": "3.5.2"
  }
 },
 "nbformat": 4,
 "nbformat_minor": 2
}
